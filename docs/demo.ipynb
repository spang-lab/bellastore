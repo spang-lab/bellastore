{
 "cells": [
  {
   "cell_type": "markdown",
   "metadata": {},
   "source": [
    "# Bellastore Demo\n",
    "\n",
    "The purpose of this demo is to showcase the main functionality of this package.\n",
    "\n",
    "The main purpose of `bellastore` is to organize whole slide image (WSI) scans both on a filesystem as well as on a database level.\n",
    "Therefore, `bellastore` creates and manages an ingress and a storage database and moves valid WSI files from ingress to storage within the file system and records this within the databases.\n",
    "\n",
    "This ultimately leads to a comprehensive storage databse that can efficiently be queried in order to retrieve files from a storage containing possibly tens of thousands of WSIs.\n",
    "\n",
    "On the other hand the ingress database serves the purpose of recording the origin of the files. Often clinical labs encode valuable information in folder and file names which are directly recorded in the ingress database. Thus, even after moving and renaming at the storage level all the original source metadata is tracked.\\\\\n",
    "Furthermore the ingress serves the purpose of only allowing slides to the storage that are not already tracked. It still records a new possible duplicate in the ingress (as it could hold valuable metadata), but the WSI will not procedd to the storage. WSI identity is checked by hashing the file to moved which is the main time consuming point within the pipeline.\n",
    "\n",
    "The beauty of `bellastore` is that the storage database allows for being extended in the spirit of relational databses with all sorts of metadata, like patient identifiers, clinical grades, cohort identifiers, etc."
   ]
  },
  {
   "cell_type": "markdown",
   "metadata": {},
   "source": [
    "The philosophy of the `bellastore` backend is that it keeps track of the file system via the `Fs` class and keeps this in sync with the databases by the inheriting `Db` class.\n",
    "\n",
    "This demo showcases the workflow of `bellastore` by encapsulating the main integration test `tests/test_db_fs.py::test_classic`. "
   ]
  },
  {
   "cell_type": "markdown",
   "metadata": {},
   "source": [
    "## Setting up a mock ingress and storage\n",
    "\n",
    "First of all we need to mock the state of the file system and the databases.\n",
    "\n",
    "In the main usecase of `bellastore` we are in the following scenario:\n",
    "- there are scans already recorded both in the ingress and storage databse\n",
    "- the respective scans are present in the storage file system\n",
    "\n",
    "Now the we imagine new scans arriving from the clinic, which we need to integrate in the already existing file sysetm and databases"
   ]
  },
  {
   "cell_type": "code",
   "execution_count": 2,
   "metadata": {},
   "outputs": [],
   "source": [
    "import os\n",
    "from os.path import join as _j\n",
    "from pathlib import Path\n",
    "from typing import List\n",
    "import sqlite3\n",
    "from tempfile import TemporaryDirectory, TemporaryFile\n",
    "\n",
    "from bellastore.utils.scan import Scan\n",
    "from bellastore.database.db import Db"
   ]
  },
  {
   "cell_type": "code",
   "execution_count": null,
   "metadata": {},
   "outputs": [],
   "source": [
    "def create_scans(path: Path, amount=4) -> List[Scan]:\n",
    "    '''\n",
    "    Mocks scans on a specified path.\n",
    "\n",
    "    The mock scans are just txt files containing content unique for each scan.\n",
    "    However they carry the file ending .ndpi \n",
    "\n",
    "    Parameters\n",
    "    -----------\n",
    "    path : Path\n",
    "        The shared directory holding the mocked scans\n",
    "    amount : int\n",
    "        The amount of scans to be created\n",
    "    \n",
    "    Returns\n",
    "    --------\n",
    "    List[Scans]\n",
    "        The list of created scans\n",
    "    '''\n",
    "    scans = []\n",
    "    for i in range(amount):\n",
    "        p = path / f\"scan_{i}.ndpi\"\n",
    "        p.write_text(f\"Content of scan_{i}.ndpi\", encoding=\"utf-8\")\n",
    "        scan = Scan(str(p))\n",
    "        scans.append(scan)\n",
    "    return scans"
   ]
  },
  {
   "cell_type": "code",
   "execution_count": null,
   "metadata": {},
   "outputs": [],
   "source": [
    "# the root of the fs holding both storage and ingress\n",
    "root_dir = TemporaryDirectory().name\n",
    "\n",
    "# create scans in ingress\n",
    "ingress_dir = Path(root_dir) / \"new_scans\"\n",
    "os.makedirs(ingress_dir)\n",
    "ingress_scans = create_scans(path=ingress_dir, amount=4)"
   ]
  },
  {
   "cell_type": "code",
   "execution_count": 19,
   "metadata": {},
   "outputs": [
    {
     "name": "stdout",
     "output_type": "stream",
     "text": [
      "\n",
      "\n",
      "├── backup\n",
      "├── new_scans\n",
      "│   ├── scan_0.ndpi\n",
      "│   ├── scan_1.ndpi\n",
      "│   ├── scan_2.ndpi\n",
      "│   └── scan_3.ndpi\n",
      "└── storage\n",
      "    └── scans.sqlite\n"
     ]
    },
    {
     "data": {
      "text/plain": [
       "'Ingress DB:\\n Empty DataFrame\\nColumns: [hash, filepath, filename]\\nIndex: []\\n Storage DB:\\n Empty DataFrame\\nColumns: [hash, filepath, filename, scanname]\\nIndex: []\\n'"
      ]
     },
     "execution_count": 19,
     "metadata": {},
     "output_type": "execute_result"
    }
   ],
   "source": [
    "# initialize the database holding ingress and storage table\n",
    "db = Db(root_dir=root_dir, ingress_dir=ingress_dir, filename='scans.sqlite')\n",
    "str(db)"
   ]
  },
  {
   "cell_type": "markdown",
   "metadata": {},
   "source": [
    "The `Db` class holds now all information of both the database as well as the file system.\n",
    "- there are 4 scans in the ingress (`new_scans`)\n",
    "- the storage contains only the database file `scans.sqlite`\n",
    "- the database holds two empty tables `Ingress` and `Storage`"
   ]
  },
  {
   "cell_type": "markdown",
   "metadata": {},
   "source": [
    "Now it is time to insert the scans from the ingress into the storage.\n",
    "\n",
    "Note that this is a complex process, requiring the following actions\n",
    "- we need to check if the file in the ingress is a valid scan\n",
    "    - if not it will stay in the ingress as it is\n",
    "- hash the scan in order to make it comparable to existing scans\n",
    "- compare the hash to the already recorded hashes in the **ingress table**\n",
    "    - if there is an entry with identical hash, path and sanname, file is removed from the fs\n",
    "- compare hash to the the already recorded hashes in the **storage table**\n",
    "    - if hash is already in storage table, record scan only in ingress table and then remove file from the fs\n",
    "- add scan to the **storage databse**\n",
    "    - move file into the sotrage directory\n",
    "    - record scan in the storage table"
   ]
  },
  {
   "cell_type": "code",
   "execution_count": null,
   "metadata": {},
   "outputs": [],
   "source": []
  }
 ],
 "metadata": {
  "kernelspec": {
   "display_name": "bell-env",
   "language": "python",
   "name": "python3"
  },
  "language_info": {
   "codemirror_mode": {
    "name": "ipython",
    "version": 3
   },
   "file_extension": ".py",
   "mimetype": "text/x-python",
   "name": "python",
   "nbconvert_exporter": "python",
   "pygments_lexer": "ipython3",
   "version": "3.10.12"
  }
 },
 "nbformat": 4,
 "nbformat_minor": 2
}
